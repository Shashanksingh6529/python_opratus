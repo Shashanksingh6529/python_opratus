{
 "cells": [
  {
   "cell_type": "markdown",
   "id": "e4762063-a668-4834-b4f3-ac8a21954251",
   "metadata": {},
   "source": [
    "Calculate the sum, difference, product, and quotient of two numbers."
   ]
  },
  {
   "cell_type": "code",
   "execution_count": 1,
   "id": "8bb2aaba-58c1-4f08-b161-e677e518f80f",
   "metadata": {},
   "outputs": [
    {
     "name": "stdout",
     "output_type": "stream",
     "text": [
      "sum: 15\n",
      "difference: 5\n",
      "product: 50\n",
      "division: 2.0\n"
     ]
    }
   ],
   "source": [
    "# define the two number \n",
    "a = 10\n",
    "b = 5\n",
    "\n",
    "# calculate the sum of a_and_b\n",
    "result_a_and_b = a+b \n",
    "\n",
    "# calculate the difference the a_and_b\n",
    "difference_a_and_b = a-b\n",
    "\n",
    "# caluculate the product the a_and_b \n",
    "product_a_and_b = a*b\n",
    "\n",
    "# caluculate the division the a_and_b\n",
    "division_a_and_b = a/b \n",
    "\n",
    "#print the all result \n",
    "print(\"sum:\",result_a_and_b)\n",
    "print(\"difference:\",difference_a_and_b)\n",
    "print(\"product:\",product_a_and_b)\n",
    "print(\"division:\",division_a_and_b)"
   ]
  },
  {
   "cell_type": "markdown",
   "id": "39edcfdd-f3fc-4e88-802b-bebf68744bbe",
   "metadata": {},
   "source": [
    "Perform various assignment operations on a variable."
   ]
  },
  {
   "cell_type": "code",
   "execution_count": 2,
   "id": "43ecfa95-be1d-4770-a2b2-7f9d47d3b5f7",
   "metadata": {},
   "outputs": [
    {
     "name": "stdout",
     "output_type": "stream",
     "text": [
      "22\n",
      "-2\n",
      "120\n",
      "0.8333333333333334\n",
      "0\n",
      "100\n",
      "2\n"
     ]
    }
   ],
   "source": [
    "# sum oprater\n",
    "x = 10\n",
    "x +=12\n",
    "print(x) \n",
    "\n",
    "#subtract oprater\n",
    "x = 10\n",
    "x -=12\n",
    "print(x) \n",
    "\n",
    "# multiply oparater\n",
    "x = 10\n",
    "x *=12\n",
    "print(x)\n",
    "\n",
    "#divied oprater\n",
    "x = 10\n",
    "x /=12\n",
    "print(x) \n",
    "\n",
    "#floor opprater\n",
    "\n",
    "x = 10\n",
    "x //=12\n",
    "print(x)\n",
    "\n",
    "#squre oprater\n",
    "x = 10\n",
    "x**=2\n",
    "print(x) \n",
    "\n",
    "#bitwise oprater\n",
    "x = 10\n",
    "x &=2\n",
    "print(x) "
   ]
  },
  {
   "cell_type": "markdown",
   "id": "f7eddfba-bd47-49e9-a76e-c6d218ec0d22",
   "metadata": {},
   "source": [
    "Compare two numbers and print the results."
   ]
  },
  {
   "cell_type": "code",
   "execution_count": 3,
   "id": "1f53924c-79b1-46b6-86e9-a8b68bb6dcf1",
   "metadata": {},
   "outputs": [
    {
     "name": "stdout",
     "output_type": "stream",
     "text": [
      "b is greater than a\n"
     ]
    }
   ],
   "source": [
    "a = 10 \n",
    "b = 20 \n",
    "if a > b :\n",
    "    print(\"a lesser than b\")\n",
    "elif b > a:\n",
    "    print(\"b is greater than a\")\n",
    "else:\n",
    "    print(\"b is greater than a\",\" a is lesser than b\")"
   ]
  },
  {
   "cell_type": "markdown",
   "id": "f0a571b8-61fb-4fb0-ab26-c33bf0091bf1",
   "metadata": {},
   "source": [
    "Check conditions using logical operators"
   ]
  },
  {
   "cell_type": "code",
   "execution_count": 4,
   "id": "61bd3d04-398c-4600-b3dd-d76127941d94",
   "metadata": {},
   "outputs": [
    {
     "data": {
      "text/plain": [
       "False"
      ]
     },
     "execution_count": 4,
     "metadata": {},
     "output_type": "execute_result"
    }
   ],
   "source": [
    "1>2"
   ]
  },
  {
   "cell_type": "code",
   "execution_count": 5,
   "id": "a69652d8-e761-4d4e-9dbf-8923aeefd574",
   "metadata": {},
   "outputs": [
    {
     "data": {
      "text/plain": [
       "True"
      ]
     },
     "execution_count": 5,
     "metadata": {},
     "output_type": "execute_result"
    }
   ],
   "source": [
    "2<=2"
   ]
  },
  {
   "cell_type": "code",
   "execution_count": 6,
   "id": "962af9be-d7ce-47ed-82b6-3dc3a4e78c00",
   "metadata": {},
   "outputs": [
    {
     "name": "stdout",
     "output_type": "stream",
     "text": [
      "x is lesser than y ,and z is greater than y\n",
      "at least the value of x and y is equal to 10\n"
     ]
    }
   ],
   "source": [
    "x = 10\n",
    "y = 30 \n",
    "z = 40 \n",
    "if x < y and z > y:\n",
    "    print(\"x is lesser than y ,and z is greater than y\")\n",
    "if x == 10 or y == 10:\n",
    "    print(\"at least the value of x and y is equal to 10\")\n",
    "else:\n",
    "    print(\"z is greater than x and y\")\n"
   ]
  },
  {
   "cell_type": "markdown",
   "id": "d5117df0-bf9d-4da4-98a2-784f94b2dd98",
   "metadata": {},
   "source": [
    "Perform bitwise operations on any two integers."
   ]
  },
  {
   "cell_type": "code",
   "execution_count": 13,
   "id": "1676205a-f691-4b8c-8c7b-fa9ef4c8e446",
   "metadata": {},
   "outputs": [],
   "source": [
    "a = 10 \n",
    "b = 20 "
   ]
  },
  {
   "cell_type": "code",
   "execution_count": 14,
   "id": "5dba7ed3-bf8c-4845-81ae-9274163b87f4",
   "metadata": {},
   "outputs": [
    {
     "data": {
      "text/plain": [
       "'0b10100'"
      ]
     },
     "execution_count": 14,
     "metadata": {},
     "output_type": "execute_result"
    }
   ],
   "source": [
    "a&b\n",
    "bin(a) \n",
    "bin(b) "
   ]
  },
  {
   "cell_type": "code",
   "execution_count": 16,
   "id": "8d45b899-6b8c-41d1-9638-5bb865ec7cd6",
   "metadata": {},
   "outputs": [
    {
     "data": {
      "text/plain": [
       "'0b10100'"
      ]
     },
     "execution_count": 16,
     "metadata": {},
     "output_type": "execute_result"
    }
   ],
   "source": [
    "a|b\n",
    "bin(a) \n",
    "bin(b)"
   ]
  },
  {
   "cell_type": "code",
   "execution_count": 18,
   "id": "2027ff94-6aef-4e10-bedc-12ea42b47c98",
   "metadata": {},
   "outputs": [
    {
     "data": {
      "text/plain": [
       "30"
      ]
     },
     "execution_count": 18,
     "metadata": {},
     "output_type": "execute_result"
    }
   ],
   "source": [
    "a|b"
   ]
  },
  {
   "cell_type": "code",
   "execution_count": 20,
   "id": "908bbf5a-8310-4683-8c98-510ccd2d2af6",
   "metadata": {},
   "outputs": [
    {
     "data": {
      "text/plain": [
       "40"
      ]
     },
     "execution_count": 20,
     "metadata": {},
     "output_type": "execute_result"
    }
   ],
   "source": [
    "a << 2"
   ]
  },
  {
   "cell_type": "code",
   "execution_count": 21,
   "id": "9299d9b0-d678-4941-9d0c-92767428795d",
   "metadata": {},
   "outputs": [
    {
     "data": {
      "text/plain": [
       "2"
      ]
     },
     "execution_count": 21,
     "metadata": {},
     "output_type": "execute_result"
    }
   ],
   "source": [
    "a >> 2"
   ]
  },
  {
   "cell_type": "markdown",
   "id": "f3044e39-dd64-44bb-823d-edafdb71354b",
   "metadata": {},
   "source": [
    "Check the identity of variables."
   ]
  },
  {
   "cell_type": "code",
   "execution_count": 22,
   "id": "9958520a-a549-4f75-91ee-271530dc010b",
   "metadata": {},
   "outputs": [
    {
     "name": "stdout",
     "output_type": "stream",
     "text": [
      "x is y: False\n",
      "y is x: False\n"
     ]
    }
   ],
   "source": [
    "x = [1,2,3]\n",
    "y = [1,2,3]\n",
    "print(\"x is y:\" ,x is y)\n",
    "print(\"y is x:\" ,y is x) "
   ]
  },
  {
   "cell_type": "markdown",
   "id": "f5b61164-0929-41c9-9498-f98abbf3d163",
   "metadata": {},
   "source": [
    "Use unary operators to change the sign of a number."
   ]
  },
  {
   "cell_type": "code",
   "execution_count": 24,
   "id": "a39611fa-b730-4b0d-a8a6-e69a824db8c5",
   "metadata": {},
   "outputs": [
    {
     "name": "stdout",
     "output_type": "stream",
     "text": [
      "define the number: 10\n",
      "define the number in the negative sign: -10\n"
     ]
    }
   ],
   "source": [
    "# define the number \n",
    "a = 10 \n",
    "# change the number sign in the number \n",
    "negative_number = -10\n",
    "\n",
    "print(\"define the number:\",a)\n",
    "print(\"define the number in the negative sign:\",negative_number)"
   ]
  },
  {
   "cell_type": "code",
   "execution_count": 29,
   "id": "a3f9d5f2-3668-4897-87f1-fe6739b7d3f8",
   "metadata": {},
   "outputs": [
    {
     "name": "stdout",
     "output_type": "stream",
     "text": [
      "y is greater than x\n"
     ]
    }
   ],
   "source": [
    "# define the condition \n",
    "x = 10 \n",
    "y = 20 \n",
    "if y > x :\n",
    "    print(\"y is greater than x\")"
   ]
  },
  {
   "cell_type": "code",
   "execution_count": null,
   "id": "0234bcf1-5b9e-497f-9e17-7925055f9957",
   "metadata": {},
   "outputs": [],
   "source": []
  }
 ],
 "metadata": {
  "kernelspec": {
   "display_name": "Python 3 (ipykernel)",
   "language": "python",
   "name": "python3"
  },
  "language_info": {
   "codemirror_mode": {
    "name": "ipython",
    "version": 3
   },
   "file_extension": ".py",
   "mimetype": "text/x-python",
   "name": "python",
   "nbconvert_exporter": "python",
   "pygments_lexer": "ipython3",
   "version": "3.10.8"
  }
 },
 "nbformat": 4,
 "nbformat_minor": 5
}
